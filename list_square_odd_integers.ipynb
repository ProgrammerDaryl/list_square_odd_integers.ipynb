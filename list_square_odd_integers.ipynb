{
 "cells": [
  {
   "cell_type": "code",
   "execution_count": 4,
   "metadata": {},
   "outputs": [
    {
     "name": "stdout",
     "output_type": "stream",
     "text": [
      "[1, 9, 25, 49, 81]\n"
     ]
    }
   ],
   "source": [
    "# create a list and an empty list\n",
    "list = [0, 1, 2, 3, 4, 5, 6, 7, 8, 9]\n",
    "odd_integers = []\n",
    "for num in list:\n",
    "    if num % 2 != 0:\n",
    "        odd_integers.append(num ** 2) # to squared the odd integers\n",
    "# display the squared odd integers in the list\n",
    "print(odd_integers)"
   ]
  }
 ],
 "metadata": {
  "kernelspec": {
   "display_name": "Python 3",
   "language": "python",
   "name": "python3"
  },
  "language_info": {
   "codemirror_mode": {
    "name": "ipython",
    "version": 3
   },
   "file_extension": ".py",
   "mimetype": "text/x-python",
   "name": "python",
   "nbconvert_exporter": "python",
   "pygments_lexer": "ipython3",
   "version": "3.11.9"
  }
 },
 "nbformat": 4,
 "nbformat_minor": 2
}
